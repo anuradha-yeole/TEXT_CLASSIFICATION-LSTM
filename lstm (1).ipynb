{
 "cells": [
  {
   "cell_type": "code",
   "execution_count": 1,
   "id": "91282a5d",
   "metadata": {
    "colab": {
     "base_uri": "https://localhost:8080/"
    },
    "id": "91282a5d",
    "outputId": "150e545d-545a-43ad-b400-d4f7b84ed23c"
   },
   "outputs": [
    {
     "name": "stderr",
     "output_type": "stream",
     "text": [
      "[nltk_data] Downloading package stopwords to\n",
      "[nltk_data]     C:\\Users\\Anuradhay\\AppData\\Roaming\\nltk_data...\n",
      "[nltk_data]   Package stopwords is already up-to-date!\n"
     ]
    },
    {
     "data": {
      "text/plain": [
       "True"
      ]
     },
     "execution_count": 1,
     "metadata": {},
     "output_type": "execute_result"
    }
   ],
   "source": [
    "import numpy as np\n",
    "import tensorflow as tf\n",
    "from tensorflow.keras.models import Sequential\n",
    "from tensorflow.keras.layers import Embedding, LSTM, Dense, Dropout\n",
    "from tensorflow.keras.preprocessing.text import Tokenizer\n",
    "from tensorflow.keras.preprocessing.sequence import pad_sequences\n",
    "from sklearn.model_selection import train_test_split\n",
    "\n",
    "import nltk\n",
    "nltk.download('stopwords')"
   ]
  },
  {
   "cell_type": "code",
   "execution_count": 49,
   "id": "122d189e",
   "metadata": {
    "id": "122d189e"
   },
   "outputs": [],
   "source": [
    "import pandas as pd\n",
    "df=pd.read_excel('test-lstm(garments,auto).xlsx')"
   ]
  },
  {
   "cell_type": "code",
   "execution_count": 50,
   "id": "VMfMHo4K87wn",
   "metadata": {
    "colab": {
     "base_uri": "https://localhost:8080/",
     "height": 70
    },
    "id": "VMfMHo4K87wn",
    "outputId": "f161c35b-aeb4-42ce-ec1a-41e38a3f6f97"
   },
   "outputs": [
    {
     "data": {
      "text/plain": [
       "'garments / rmg\\t'"
      ]
     },
     "execution_count": 50,
     "metadata": {},
     "output_type": "execute_result"
    }
   ],
   "source": [
    "df['COMMODITY DESCRIPTION'][3]"
   ]
  },
  {
   "cell_type": "code",
   "execution_count": 51,
   "id": "9a6d9303",
   "metadata": {
    "colab": {
     "base_uri": "https://localhost:8080/"
    },
    "id": "9a6d9303",
    "outputId": "52510f52-7374-449a-a18a-15a00b120c9d"
   },
   "outputs": [
    {
     "name": "stdout",
     "output_type": "stream",
     "text": [
      "<class 'pandas.core.frame.DataFrame'>\n",
      "RangeIndex: 35083 entries, 0 to 35082\n",
      "Data columns (total 6 columns):\n",
      " #   Column                 Non-Null Count  Dtype         \n",
      "---  ------                 --------------  -----         \n",
      " 0   COMMODITY DESCRIPTION  35083 non-null  object        \n",
      " 1   SEGMENT CODE           35083 non-null  int64         \n",
      " 2   JOB NO                 35083 non-null  int64         \n",
      " 3   SUBJOB NO              35083 non-null  int64         \n",
      " 4   JOB DATE               35083 non-null  datetime64[ns]\n",
      " 5   MATCHED KEYWORDS       35083 non-null  object        \n",
      "dtypes: datetime64[ns](1), int64(3), object(2)\n",
      "memory usage: 1.6+ MB\n"
     ]
    }
   ],
   "source": [
    "df.info()"
   ]
  },
  {
   "cell_type": "code",
   "execution_count": 52,
   "id": "45f0f6f9",
   "metadata": {
    "colab": {
     "base_uri": "https://localhost:8080/"
    },
    "id": "45f0f6f9",
    "outputId": "473bdaa7-6ade-4e05-c381-05ad06503e23"
   },
   "outputs": [
    {
     "data": {
      "text/plain": [
       "MATCHED KEYWORDS\n",
       "[['auto']]       23600\n",
       "[['garment']]    11483\n",
       "Name: count, dtype: int64"
      ]
     },
     "execution_count": 52,
     "metadata": {},
     "output_type": "execute_result"
    }
   ],
   "source": [
    "df['MATCHED KEYWORDS'].value_counts()"
   ]
  },
  {
   "cell_type": "code",
   "execution_count": 53,
   "id": "b0e7e3a3",
   "metadata": {},
   "outputs": [
    {
     "data": {
      "text/plain": [
       "MATCHED KEYWORDS\n",
       "[['auto']]       23600\n",
       "[['garment']]    11483\n",
       "Name: count, dtype: int64"
      ]
     },
     "execution_count": 53,
     "metadata": {},
     "output_type": "execute_result"
    }
   ],
   "source": [
    "df['MATCHED KEYWORDS'].value_counts()"
   ]
  },
  {
   "cell_type": "code",
   "execution_count": 54,
   "id": "1fbb4244",
   "metadata": {
    "id": "1fbb4244"
   },
   "outputs": [],
   "source": [
    "import re\n",
    "from nltk.corpus import stopwords  # Import the stopwords module\n",
    "# REPLACE_BY_SPACE_RE = re.compile('[/(){}\\[\\]\\|@,;%]')\n",
    "# BAD_SYMBOLS_RE = re.compile('[^0-9a-z #+_]')\n",
    "# STOPWORDS = set(stopwords.words('english'))\n"
   ]
  },
  {
   "cell_type": "code",
   "execution_count": 55,
   "id": "4ed27dde",
   "metadata": {
    "id": "4ed27dde"
   },
   "outputs": [],
   "source": [
    "def clean_text_general(text):\n",
    "    # Remove specific details using regular expressions\n",
    "    text = re.sub(r\"[A-Za-z0-9]+?(\\d{2}|\\d{4}).\\d{2}.\\d{2}(\\n|$)\", \"\", text)\n",
    "    text = re.sub(r\"[A-Za-z0-9]+?\\s*:\\s*.+?(\\n|$)\", \"\", text)\n",
    "    text = re.sub(r\"[A-Za-z0-9]+?\\s+no\\..+?(\\n|$)\", \"\", text)\n",
    "    text = re.sub(r\"\\b[0-9]{2,}\\b\", \"\", text)\n",
    "    text = re.sub(r\"inv\\s*no\\s*:.*?(\\n|$)\", \"\", text)\n",
    "    text = re.sub(r\"inv\\s*n0.*?(\\n|$)\", \"\", text)\n",
    "    text = re.sub(r\"inv\\s*no.*?(\\n|$)\", \"\", text)\n",
    "    text = re.sub(r\"freight\\s*collect\", \"\", text)\n",
    "\n",
    "    # Convert to lowercase\n",
    "    text = text.lower()\n",
    "\n",
    "    # Remove special characters and digits, keep only alphabetic characters, spaces, and punctuation\n",
    "    text = re.sub(r\"[^a-zA-Z\\s\\.,!?']\", \"\", text)\n",
    "\n",
    "    # Remove extra whitespaces\n",
    "    text = re.sub(r\"\\s+\", \" \", text).strip()\n",
    "    stop_words = set(stopwords.words(\"english\"))\n",
    "    words = text.split()\n",
    "    words = [word for word in words if word not in stop_words]\n",
    "    text = \" \".join(words)\n",
    "\n",
    "    return text"
   ]
  },
  {
   "cell_type": "code",
   "execution_count": 56,
   "id": "35942577",
   "metadata": {
    "id": "35942577"
   },
   "outputs": [],
   "source": [
    "df['COMMODITY DESCRIPTION'] = df['COMMODITY DESCRIPTION'].apply(clean_text_general)\n",
    "# df['COMMODITY DESCRIPTION'] = df['COMMODITY DESCRIPTION'].str.replace('\\d+', '')"
   ]
  },
  {
   "cell_type": "code",
   "execution_count": 57,
   "id": "24d570f7",
   "metadata": {
    "colab": {
     "base_uri": "https://localhost:8080/",
     "height": 35
    },
    "id": "24d570f7",
    "outputId": "4a66dd0c-3f34-41a3-cb3b-6b125d938a50"
   },
   "outputs": [
    {
     "data": {
      "text/plain": [
       "'packagesmounted brake liningsautomotive brake partsinv'"
      ]
     },
     "execution_count": 57,
     "metadata": {},
     "output_type": "execute_result"
    }
   ],
   "source": [
    "df['COMMODITY DESCRIPTION'][1500]"
   ]
  },
  {
   "cell_type": "code",
   "execution_count": 58,
   "id": "SOg6I4-1AcjF",
   "metadata": {
    "id": "SOg6I4-1AcjF"
   },
   "outputs": [],
   "source": [
    "from nltk.tokenize import word_tokenize\n"
   ]
  },
  {
   "cell_type": "code",
   "execution_count": 59,
   "id": "5p2_HDhMARKZ",
   "metadata": {
    "colab": {
     "base_uri": "https://localhost:8080/"
    },
    "id": "5p2_HDhMARKZ",
    "outputId": "76f52269-753b-4904-ed00-50ea146fdc36"
   },
   "outputs": [
    {
     "name": "stderr",
     "output_type": "stream",
     "text": [
      "[nltk_data] Downloading package punkt to\n",
      "[nltk_data]     C:\\Users\\Anuradhay\\AppData\\Roaming\\nltk_data...\n",
      "[nltk_data]   Package punkt is already up-to-date!\n"
     ]
    }
   ],
   "source": [
    "nltk.download('punkt')  # Download the necessary tokenizer data (only required once)\n",
    "df['tokenized_text'] = df['COMMODITY DESCRIPTION'].apply(word_tokenize)\n"
   ]
  },
  {
   "cell_type": "code",
   "execution_count": 60,
   "id": "S6RbuDBlAuvV",
   "metadata": {
    "colab": {
     "base_uri": "https://localhost:8080/"
    },
    "id": "S6RbuDBlAuvV",
    "outputId": "9817ddee-2cc6-4595-f09c-fb1bff4de110"
   },
   "outputs": [
    {
     "data": {
      "text/plain": [
       "0                                      [automotive, parts]\n",
       "1                                 [automotive, components]\n",
       "2        [box, movable, wall, palace, semi, automatic, ...\n",
       "3                                          [garments, rmg]\n",
       "4        [number, packages, kind, packages, six, hundre...\n",
       "                               ...                        \n",
       "35078                  [automotive, gears, various, types]\n",
       "35079                       [automotive, battery, vah, hs]\n",
       "35080    [total, box, onlyautomatic, rotichapati, makin...\n",
       "35081        [automatic, rotichapati, making, machine, hs]\n",
       "35082    [total, cartons, fifty, four, readymade, garme...\n",
       "Name: tokenized_text, Length: 35083, dtype: object"
      ]
     },
     "execution_count": 60,
     "metadata": {},
     "output_type": "execute_result"
    }
   ],
   "source": [
    "df['tokenized_text']"
   ]
  },
  {
   "cell_type": "code",
   "execution_count": 61,
   "id": "ys5Xxzz4Bumw",
   "metadata": {
    "colab": {
     "base_uri": "https://localhost:8080/"
    },
    "id": "ys5Xxzz4Bumw",
    "outputId": "1fe5890e-bb00-44a3-cdbf-4a6ae7bf2fc5"
   },
   "outputs": [
    {
     "name": "stdout",
     "output_type": "stream",
     "text": [
      "                                   COMMODITY DESCRIPTION  SEGMENT CODE  \\\n",
      "0                                       automotive parts             5   \n",
      "1                                  automotive components             5   \n",
      "2      box movable wall palace semi automatic db og s...             5   \n",
      "3                                           garments rmg             5   \n",
      "4      number packages kind packages six hundred eigh...             1   \n",
      "...                                                  ...           ...   \n",
      "35078                     automotive gears various types             4   \n",
      "35079                          automotive battery vah hs             5   \n",
      "35080  total box onlyautomatic rotichapati making mac...             4   \n",
      "35081            automatic rotichapati making machine hs             5   \n",
      "35082  total cartons fifty four readymade garments.al...             4   \n",
      "\n",
      "            JOB NO  SUBJOB NO   JOB DATE MATCHED KEYWORDS  \\\n",
      "0       9500301169          3 2020-01-02       [['auto']]   \n",
      "1       9500301169         10 2020-01-02       [['auto']]   \n",
      "2       9500105209          4 2020-01-05       [['auto']]   \n",
      "3       9500105198          1 2019-12-18    [['garment']]   \n",
      "4       9502001585          1 2019-12-23    [['garment']]   \n",
      "...            ...        ...        ...              ...   \n",
      "35078  22502002376         16 2023-03-31       [['auto']]   \n",
      "35079  22500107315          1 2023-03-30       [['auto']]   \n",
      "35080  22500200638          2 2023-03-28       [['auto']]   \n",
      "35081  22500107319          2 2023-03-30       [['auto']]   \n",
      "35082  22500106420          3 2023-03-29    [['garment']]   \n",
      "\n",
      "                                          tokenized_text  \\\n",
      "0                                    [automotive, parts]   \n",
      "1                               [automotive, components]   \n",
      "2      [box, movable, wall, palace, semi, automatic, ...   \n",
      "3                                        [garments, rmg]   \n",
      "4      [number, packages, kind, packages, six, hundre...   \n",
      "...                                                  ...   \n",
      "35078                [automotive, gears, various, types]   \n",
      "35079                     [automotive, battery, vah, hs]   \n",
      "35080  [total, box, onlyautomatic, rotichapati, makin...   \n",
      "35081      [automatic, rotichapati, making, machine, hs]   \n",
      "35082  [total, cartons, fifty, four, readymade, garme...   \n",
      "\n",
      "                                        padded_sequences  \n",
      "0      [automotive, parts, , , , , , , , , , , , , , ...  \n",
      "1      [automotive, components, , , , , , , , , , , ,...  \n",
      "2      [box, movable, wall, palace, semi, automatic, ...  \n",
      "3      [garments, rmg, , , , , , , , , , , , , , , , ...  \n",
      "4      [number, packages, kind, packages, six, hundre...  \n",
      "...                                                  ...  \n",
      "35078  [automotive, gears, various, types, , , , , , ...  \n",
      "35079  [automotive, battery, vah, hs, , , , , , , , ,...  \n",
      "35080  [total, box, onlyautomatic, rotichapati, makin...  \n",
      "35081  [automatic, rotichapati, making, machine, hs, ...  \n",
      "35082  [total, cartons, fifty, four, readymade, garme...  \n",
      "\n",
      "[35083 rows x 8 columns]\n"
     ]
    }
   ],
   "source": [
    "tokenized_sequences = df['tokenized_text'].tolist()\n",
    "\n",
    "# Find the maximum sequence length\n",
    "max_seq_length = max(len(seq) for seq in tokenized_sequences)\n",
    "\n",
    "# Pad sequences to the same length\n",
    "padded_sequences = pad_sequences(tokenized_sequences, maxlen=max_seq_length, padding='post', truncating='post', value='', dtype=object)\n",
    "\n",
    "# Update the DataFrame with padded sequences\n",
    "df['padded_sequences'] = pd.Series(padded_sequences.tolist())\n",
    "\n",
    "print(df)"
   ]
  },
  {
   "cell_type": "code",
   "execution_count": 62,
   "id": "63e6f12a",
   "metadata": {},
   "outputs": [
    {
     "data": {
      "text/html": [
       "<div>\n",
       "<style scoped>\n",
       "    .dataframe tbody tr th:only-of-type {\n",
       "        vertical-align: middle;\n",
       "    }\n",
       "\n",
       "    .dataframe tbody tr th {\n",
       "        vertical-align: top;\n",
       "    }\n",
       "\n",
       "    .dataframe thead th {\n",
       "        text-align: right;\n",
       "    }\n",
       "</style>\n",
       "<table border=\"1\" class=\"dataframe\">\n",
       "  <thead>\n",
       "    <tr style=\"text-align: right;\">\n",
       "      <th></th>\n",
       "      <th>COMMODITY DESCRIPTION</th>\n",
       "      <th>SEGMENT CODE</th>\n",
       "      <th>JOB NO</th>\n",
       "      <th>SUBJOB NO</th>\n",
       "      <th>JOB DATE</th>\n",
       "      <th>MATCHED KEYWORDS</th>\n",
       "      <th>tokenized_text</th>\n",
       "      <th>padded_sequences</th>\n",
       "    </tr>\n",
       "  </thead>\n",
       "  <tbody>\n",
       "    <tr>\n",
       "      <th>0</th>\n",
       "      <td>automotive parts</td>\n",
       "      <td>5</td>\n",
       "      <td>9500301169</td>\n",
       "      <td>3</td>\n",
       "      <td>2020-01-02</td>\n",
       "      <td>[['auto']]</td>\n",
       "      <td>[automotive, parts]</td>\n",
       "      <td>[automotive, parts, , , , , , , , , , , , , , ...</td>\n",
       "    </tr>\n",
       "    <tr>\n",
       "      <th>1</th>\n",
       "      <td>automotive components</td>\n",
       "      <td>5</td>\n",
       "      <td>9500301169</td>\n",
       "      <td>10</td>\n",
       "      <td>2020-01-02</td>\n",
       "      <td>[['auto']]</td>\n",
       "      <td>[automotive, components]</td>\n",
       "      <td>[automotive, components, , , , , , , , , , , ,...</td>\n",
       "    </tr>\n",
       "    <tr>\n",
       "      <th>2</th>\n",
       "      <td>box movable wall palace semi automatic db og s...</td>\n",
       "      <td>5</td>\n",
       "      <td>9500105209</td>\n",
       "      <td>4</td>\n",
       "      <td>2020-01-05</td>\n",
       "      <td>[['auto']]</td>\n",
       "      <td>[box, movable, wall, palace, semi, automatic, ...</td>\n",
       "      <td>[box, movable, wall, palace, semi, automatic, ...</td>\n",
       "    </tr>\n",
       "    <tr>\n",
       "      <th>3</th>\n",
       "      <td>garments rmg</td>\n",
       "      <td>5</td>\n",
       "      <td>9500105198</td>\n",
       "      <td>1</td>\n",
       "      <td>2019-12-18</td>\n",
       "      <td>[['garment']]</td>\n",
       "      <td>[garments, rmg]</td>\n",
       "      <td>[garments, rmg, , , , , , , , , , , , , , , , ...</td>\n",
       "    </tr>\n",
       "    <tr>\n",
       "      <th>4</th>\n",
       "      <td>number packages kind packages six hundred eigh...</td>\n",
       "      <td>1</td>\n",
       "      <td>9502001585</td>\n",
       "      <td>1</td>\n",
       "      <td>2019-12-23</td>\n",
       "      <td>[['garment']]</td>\n",
       "      <td>[number, packages, kind, packages, six, hundre...</td>\n",
       "      <td>[number, packages, kind, packages, six, hundre...</td>\n",
       "    </tr>\n",
       "  </tbody>\n",
       "</table>\n",
       "</div>"
      ],
      "text/plain": [
       "                               COMMODITY DESCRIPTION  SEGMENT CODE  \\\n",
       "0                                   automotive parts             5   \n",
       "1                              automotive components             5   \n",
       "2  box movable wall palace semi automatic db og s...             5   \n",
       "3                                       garments rmg             5   \n",
       "4  number packages kind packages six hundred eigh...             1   \n",
       "\n",
       "       JOB NO  SUBJOB NO   JOB DATE MATCHED KEYWORDS  \\\n",
       "0  9500301169          3 2020-01-02       [['auto']]   \n",
       "1  9500301169         10 2020-01-02       [['auto']]   \n",
       "2  9500105209          4 2020-01-05       [['auto']]   \n",
       "3  9500105198          1 2019-12-18    [['garment']]   \n",
       "4  9502001585          1 2019-12-23    [['garment']]   \n",
       "\n",
       "                                      tokenized_text  \\\n",
       "0                                [automotive, parts]   \n",
       "1                           [automotive, components]   \n",
       "2  [box, movable, wall, palace, semi, automatic, ...   \n",
       "3                                    [garments, rmg]   \n",
       "4  [number, packages, kind, packages, six, hundre...   \n",
       "\n",
       "                                    padded_sequences  \n",
       "0  [automotive, parts, , , , , , , , , , , , , , ...  \n",
       "1  [automotive, components, , , , , , , , , , , ,...  \n",
       "2  [box, movable, wall, palace, semi, automatic, ...  \n",
       "3  [garments, rmg, , , , , , , , , , , , , , , , ...  \n",
       "4  [number, packages, kind, packages, six, hundre...  "
      ]
     },
     "execution_count": 62,
     "metadata": {},
     "output_type": "execute_result"
    }
   ],
   "source": [
    "df.head()"
   ]
  },
  {
   "cell_type": "code",
   "execution_count": 63,
   "id": "Ki3hfvwrC0h6",
   "metadata": {
    "id": "Ki3hfvwrC0h6"
   },
   "outputs": [],
   "source": [
    "from sklearn.preprocessing import LabelEncoder\n",
    "from keras.utils import to_categorical"
   ]
  },
  {
   "cell_type": "code",
   "execution_count": 64,
   "id": "ZfMCimMWCqUk",
   "metadata": {
    "colab": {
     "base_uri": "https://localhost:8080/"
    },
    "id": "ZfMCimMWCqUk",
    "outputId": "81751b28-bf92-4fe3-f0e6-77d0b1cb1bf4"
   },
   "outputs": [
    {
     "name": "stdout",
     "output_type": "stream",
     "text": [
      "X_train shape: (28066, 264)\n",
      "y_train shape: (28066, 2)\n",
      "X_test shape: (7017, 264)\n",
      "y_test shape: (7017, 2)\n"
     ]
    }
   ],
   "source": [
    "# Encode the labels into numerical values\n",
    "#label_encoder = LabelEncoder()\n",
    "#df['encoded_label'] = label_encoder.fit_transform(df['MATCHED KEYWORDS'])\n",
    "\n",
    "# Convert the numerical labels to one-hot vectors\n",
    "y = pd.get_dummies(df['MATCHED KEYWORDS']).values\n",
    "\n",
    "#y=df['encoded_label']\n",
    "# Split data into training and testing sets\n",
    "X_train, X_test, y_train, y_test = train_test_split(padded_sequences, y, test_size=0.2, random_state=42)\n",
    "\n",
    "print(\"X_train shape:\", X_train.shape)\n",
    "print(\"y_train shape:\", y_train.shape)\n",
    "print(\"X_test shape:\", X_test.shape)\n",
    "print(\"y_test shape:\", y_test.shape)"
   ]
  },
  {
   "cell_type": "code",
   "execution_count": 65,
   "id": "9a04d533",
   "metadata": {},
   "outputs": [
    {
     "name": "stdout",
     "output_type": "stream",
     "text": [
      "X_train shape: (28066, 264)\n",
      "y_train shape: (28066, 2)\n",
      "X_test shape: (7017, 264)\n",
      "y_test shape: (7017, 2)\n"
     ]
    },
    {
     "name": "stderr",
     "output_type": "stream",
     "text": [
      "C:\\Users\\Anuradhay\\AppData\\Local\\Programs\\Python\\Python311\\Lib\\site-packages\\sklearn\\preprocessing\\_encoders.py:868: FutureWarning: `sparse` was renamed to `sparse_output` in version 1.2 and will be removed in 1.4. `sparse_output` is ignored unless you leave `sparse` to its default value.\n",
      "  warnings.warn(\n"
     ]
    }
   ],
   "source": [
    "from sklearn.preprocessing import LabelEncoder, OneHotEncoder\n",
    "\n",
    "# Assuming you have the DataFrame named 'df' as shown in the question\n",
    "\n",
    "# Step 1: Encode the labels into numerical values\n",
    "label_encoder = LabelEncoder()\n",
    "df['encoded_label'] = label_encoder.fit_transform(df['MATCHED KEYWORDS'])\n",
    "\n",
    "# Step 2: Convert the numerical labels to one-hot vectors\n",
    "onehot_encoder = OneHotEncoder(sparse=False)\n",
    "y = onehot_encoder.fit_transform(df['encoded_label'].values.reshape(-1, 1))\n",
    "\n",
    "# Step 3: Split data into training and testing sets\n",
    "X_train, X_test, y_train, y_test = train_test_split(padded_sequences, y, test_size=0.2, random_state=42)\n",
    "\n",
    "print(\"X_train shape:\", X_train.shape)\n",
    "print(\"y_train shape:\", y_train.shape)\n",
    "print(\"X_test shape:\", X_test.shape)\n",
    "print(\"y_test shape:\", y_test.shape)\n"
   ]
  },
  {
   "cell_type": "code",
   "execution_count": 66,
   "id": "yZ6s-sSG7hZH",
   "metadata": {
    "colab": {
     "base_uri": "https://localhost:8080/"
    },
    "id": "yZ6s-sSG7hZH",
    "outputId": "f34aa581-d0bf-4ec7-823d-87e580fd88ba"
   },
   "outputs": [
    {
     "data": {
      "text/plain": [
       "array([[0., 1.],\n",
       "       [0., 1.],\n",
       "       [1., 0.],\n",
       "       ...,\n",
       "       [1., 0.],\n",
       "       [1., 0.],\n",
       "       [0., 1.]])"
      ]
     },
     "execution_count": 66,
     "metadata": {},
     "output_type": "execute_result"
    }
   ],
   "source": [
    "y_train\n"
   ]
  },
  {
   "cell_type": "code",
   "execution_count": 67,
   "id": "31266e70",
   "metadata": {
    "id": "31266e70"
   },
   "outputs": [],
   "source": [
    "from tensorflow.keras.models import Sequential\n",
    "from tensorflow.keras.layers import Embedding, SpatialDropout1D, LSTM, Dense\n",
    "from tensorflow.keras.callbacks import EarlyStopping\n"
   ]
  },
  {
   "cell_type": "code",
   "execution_count": 68,
   "id": "d0d8af3c",
   "metadata": {},
   "outputs": [
    {
     "name": "stdout",
     "output_type": "stream",
     "text": [
      "Epoch 1/10\n",
      "878/878 [==============================] - 117s 131ms/step - loss: 0.1179 - accuracy: 0.9500 - val_loss: 0.0665 - val_accuracy: 0.9736\n",
      "Epoch 2/10\n",
      "878/878 [==============================] - 118s 134ms/step - loss: 0.0487 - accuracy: 0.9787 - val_loss: 0.0610 - val_accuracy: 0.9759\n",
      "Epoch 3/10\n",
      "878/878 [==============================] - 121s 138ms/step - loss: 0.0403 - accuracy: 0.9805 - val_loss: 0.0595 - val_accuracy: 0.9751\n",
      "Epoch 4/10\n",
      "878/878 [==============================] - 119s 135ms/step - loss: 0.0376 - accuracy: 0.9819 - val_loss: 0.0676 - val_accuracy: 0.9704\n",
      "Epoch 5/10\n",
      "878/878 [==============================] - 119s 135ms/step - loss: 0.0360 - accuracy: 0.9826 - val_loss: 0.0635 - val_accuracy: 0.9755\n",
      "Epoch 6/10\n",
      "878/878 [==============================] - 120s 137ms/step - loss: 0.0345 - accuracy: 0.9831 - val_loss: 0.0606 - val_accuracy: 0.9759\n",
      "Epoch 7/10\n",
      "878/878 [==============================] - 119s 136ms/step - loss: 0.0346 - accuracy: 0.9831 - val_loss: 0.0642 - val_accuracy: 0.9759\n",
      "Epoch 8/10\n",
      "878/878 [==============================] - 123s 140ms/step - loss: 0.0332 - accuracy: 0.9829 - val_loss: 0.0666 - val_accuracy: 0.9749\n",
      "Epoch 9/10\n",
      "878/878 [==============================] - 121s 138ms/step - loss: 0.0322 - accuracy: 0.9836 - val_loss: 0.0723 - val_accuracy: 0.9734\n",
      "Epoch 10/10\n",
      "878/878 [==============================] - 119s 136ms/step - loss: 0.0314 - accuracy: 0.9841 - val_loss: 0.0728 - val_accuracy: 0.9721\n",
      "1097/1097 [==============================] - 46s 42ms/step - loss: 0.0380 - accuracy: 0.9827\n",
      "Test accuracy: 0.9827\n"
     ]
    }
   ],
   "source": [
    "import pandas as pd\n",
    "from keras.preprocessing.text import Tokenizer\n",
    "from keras.preprocessing.sequence import pad_sequences\n",
    "from keras.models import Sequential\n",
    "from keras.layers import Embedding, LSTM, Dense, SpatialDropout1D  # Import SpatialDropout1D\n",
    "\n",
    "# Assuming you have the DataFrame named 'df' as shown in the question\n",
    "\n",
    "# Step 1: Preprocess the data\n",
    "tokenizer = Tokenizer()\n",
    "tokenizer.fit_on_texts(df['tokenized_text'])\n",
    "vocab_size = len(tokenizer.word_index) + 1\n",
    "encoded_sequences = tokenizer.texts_to_sequences(df['tokenized_text'])\n",
    "padded_sequences = pad_sequences(encoded_sequences)\n",
    "\n",
    "# Step 2: Prepare the target labels\n",
    "labels = df['encoded_label']\n",
    "\n",
    "# Step 3: Create the LSTM model with SpatialDropout1D layer\n",
    "embedding_dim = 50  # You can choose the size of the embedding dimension\n",
    "lstm_units = 64      # You can choose the number of LSTM units\n",
    "\n",
    "model = Sequential()\n",
    "model.add(Embedding(vocab_size, embedding_dim, input_length=padded_sequences.shape[1]))\n",
    "model.add(SpatialDropout1D(0.2))  # Add SpatialDropout1D layer with dropout rate (e.g., 0.2)\n",
    "model.add(LSTM(lstm_units))\n",
    "model.add(Dense(1, activation='sigmoid'))  # Assuming binary classification, for multi-class use softmax\n",
    "\n",
    "# Step 4: Compile the model\n",
    "model.compile(loss='binary_crossentropy', optimizer='adam', metrics=['accuracy'])  # Use categorical_crossentropy for multi-class\n",
    "\n",
    "# Step 5: Train the model\n",
    "model.fit(padded_sequences, labels, epochs=10, batch_size=32, validation_split=0.2)\n",
    "\n",
    "# Step 6: Evaluate the model (optional)\n",
    "loss, accuracy = model.evaluate(padded_sequences, labels)\n",
    "print(f'Test accuracy: {accuracy:.4f}')\n"
   ]
  },
  {
   "cell_type": "code",
   "execution_count": null,
   "id": "e1fe9b42",
   "metadata": {
    "colab": {
     "base_uri": "https://localhost:8080/",
     "height": 452
    },
    "id": "e1fe9b42",
    "outputId": "8ee65534-7d4c-49a6-8bff-9bbe4a9aadf8"
   },
   "outputs": [
    {
     "data": {
      "image/png": "[encoded data removed]",
      "text/plain": [
       "<Figure size 640x480 with 1 Axes>"
      ]
     },
     "metadata": {},
     "output_type": "display_data"
    }
   ],
   "source": [
    "import matplotlib.pyplot as plt\n",
    "plt.title('Loss')\n",
    "plt.plot(history.history['loss'], label='train')\n",
    "plt.plot(history.history['val_loss'], label='test')\n",
    "plt.legend()\n",
    "plt.show();"
   ]
  },
  {
   "cell_type": "code",
   "execution_count": 76,
   "id": "dea184ad",
   "metadata": {
    "colab": {
     "base_uri": "https://localhost:8080/"
    },
    "id": "dea184ad",
    "outputId": "03b6d93b-ab39-4e55-8d91-b29e5a439349"
   },
   "outputs": [
    {
     "name": "stdout",
     "output_type": "stream",
     "text": [
      "1/1 [==============================] - 0s 32ms/step\n",
      "[[0.99890685]]\n",
      "0\n",
      "auto\n"
     ]
    }
   ],
   "source": [
    "txt = [\"accessories for 100% exportoriented readymade  garmentsindustry12 packagesinvoice no. hiipl-19/266dt.29.11.19proforma invoice no.256dt.07.11.19sp # 721721 (p) - s   sp # 721721 (p) - lsb no: 8682846 dt: 03.12.2019gross wt: 108.00kgsnet wt: 90.000kgs\"]\n",
    "seq = tokenizer.texts_to_sequences(txt)\n",
    "padded = pad_sequences(seq, maxlen=MAX_SEQUENCE_LENGTH)\n",
    "pred = model.predict(padded)\n",
    "\n",
    "labels = ['garments','auto']\n",
    "print(pred)\n",
    "print(np.argmax(pred))\n",
    "print(labels[np.argmax(pred)-1])"
   ]
  },
  {
   "cell_type": "code",
   "execution_count": 72,
   "id": "bb8f6b48",
   "metadata": {
    "id": "bb8f6b48"
   },
   "outputs": [
    {
     "name": "stdout",
     "output_type": "stream",
     "text": [
      "1/1 [==============================] - 0s 30ms/step\n",
      "[[9.188616e-06]] garments\n"
     ]
    }
   ],
   "source": [
    "# Assuming you have already trained and defined the 'model' and 'tokenizer'\n",
    "\n",
    "new_description = ['1 box of movable wall palace 110 semi automatic 50 db og system  track trolley fg2  finishing mdf']\n",
    "\n",
    "# Step 1: Preprocess the new description using the tokenizer\n",
    "seq = tokenizer.texts_to_sequences(new_description)\n",
    "\n",
    "# Step 2: Pad the tokenized sequence to have the same length as during training\n",
    "#MAX_SEQUENCE_LENGTH = <your_max_sequence_length>  # Replace with the appropriate value used during training\n",
    "padded = pad_sequences(seq, maxlen=max_seq_length)\n",
    "\n",
    "# Step 3: Make predictions using the trained model\n",
    "pred = model.predict(padded)\n",
    "\n",
    "# Step 4: Map the predicted class index to the corresponding label\n",
    "labels = ['garments','auto']\n",
    "predicted_label = labels[np.argmax(pred)]\n",
    "\n",
    "print(pred, predicted_label)\n"
   ]
  },
  {
   "cell_type": "code",
   "execution_count": null,
   "id": "c22b1c2d",
   "metadata": {},
   "outputs": [],
   "source": []
  },
  {
   "cell_type": "code",
   "execution_count": null,
   "id": "0a81a002",
   "metadata": {},
   "outputs": [],
   "source": []
  }
 ],
 "metadata": {
  "colab": {
   "provenance": []
  },
  "kernelspec": {
   "display_name": "Python 3 (ipykernel)",
   "language": "python",
   "name": "python3"
  },
  "language_info": {
   "codemirror_mode": {
    "name": "ipython",
    "version": 3
   },
   "file_extension": ".py",
   "mimetype": "text/x-python",
   "name": "python",
   "nbconvert_exporter": "python",
   "pygments_lexer": "ipython3",
   "version": "3.11.3"
  }
 },
 "nbformat": 4,
 "nbformat_minor": 5
}
